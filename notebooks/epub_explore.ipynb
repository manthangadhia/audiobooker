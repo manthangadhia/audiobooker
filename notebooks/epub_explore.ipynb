{
 "cells": [
  {
   "cell_type": "markdown",
   "id": "089b66ee",
   "metadata": {},
   "source": [
    "# Explore `epub` file format\n",
    "\n",
    "Epub is a zipped folder containing individual `xhtml` files and metadata explaining how to order and render the content files."
   ]
  },
  {
   "cell_type": "code",
   "execution_count": 14,
   "id": "753a6068",
   "metadata": {},
   "outputs": [],
   "source": [
    "from pathlib import Path\n",
    "import os\n",
    "\n",
    "books_dir = Path(os.getcwd()) / \"books\"\n",
    "test_book = books_dir / \"Feeding the Machine.epub\""
   ]
  },
  {
   "cell_type": "code",
   "execution_count": 17,
   "id": "1b8ffd3e",
   "metadata": {},
   "outputs": [],
   "source": [
    "import zipfile\n",
    "\n",
    "def explore_epub_structure(epub_path):\n",
    "    with zipfile.ZipFile(epub_path, 'r') as epub:\n",
    "        # List all files in the EPUB\n",
    "        file_list = epub.namelist()\n",
    "        \n",
    "        print(\"EPUB Structure:\")\n",
    "        print(\"-\" * 40)\n",
    "        \n",
    "        # Group files by directory for cleaner display\n",
    "        dirs = {}\n",
    "        for file_path in file_list:\n",
    "            dir_name = os.path.dirname(file_path) or \"root\"\n",
    "            if dir_name not in dirs:\n",
    "                dirs[dir_name] = []\n",
    "            dirs[dir_name].append(os.path.basename(file_path))\n",
    "        \n",
    "        for dir_name, files in sorted(dirs.items()):\n",
    "            print(f\"\\n{dir_name}/\")\n",
    "            for file in sorted(files):\n",
    "                print(f\"  {file}\")\n",
    "        \n",
    "        return file_list"
   ]
  },
  {
   "cell_type": "code",
   "execution_count": 18,
   "id": "7ae58443",
   "metadata": {},
   "outputs": [
    {
     "name": "stdout",
     "output_type": "stream",
     "text": [
      "EPUB Structure:\n",
      "----------------------------------------\n",
      "\n",
      "META-INF/\n",
      "  container.xml\n",
      "\n",
      "OEBPS/\n",
      "  9781639734979.opf\n",
      "  toc.ncx\n",
      "\n",
      "OEBPS/images/\n",
      "  9781639734979.jpg\n",
      "  pg238.jpg\n",
      "  pgi.jpg\n",
      "  pgiii.jpg\n",
      "\n",
      "OEBPS/styles/\n",
      "  stylesheet.css\n",
      "\n",
      "OEBPS/xhtml/\n",
      "  acknowledgments.xhtml\n",
      "  authorsnote.xhtml\n",
      "  chapter1.xhtml\n",
      "  chapter2.xhtml\n",
      "  chapter3.xhtml\n",
      "  chapter4.xhtml\n",
      "  chapter5.xhtml\n",
      "  chapter6.xhtml\n",
      "  chapter7.xhtml\n",
      "  chapter8.xhtml\n",
      "  conclusion.xhtml\n",
      "  contents.xhtml\n",
      "  copyright.xhtml\n",
      "  cover.xhtml\n",
      "  extration.xhtml\n",
      "  halftitle.xhtml\n",
      "  nav.xhtml\n",
      "  notes.xhtml\n",
      "  title.xhtml\n",
      "\n",
      "root/\n",
      "  mimetype\n"
     ]
    },
    {
     "data": {
      "text/plain": [
       "['mimetype',\n",
       " 'OEBPS/images/pgi.jpg',\n",
       " 'OEBPS/xhtml/contents.xhtml',\n",
       " 'OEBPS/xhtml/chapter8.xhtml',\n",
       " 'OEBPS/xhtml/notes.xhtml',\n",
       " 'OEBPS/xhtml/chapter5.xhtml',\n",
       " 'OEBPS/xhtml/chapter4.xhtml',\n",
       " 'OEBPS/xhtml/chapter1.xhtml',\n",
       " 'OEBPS/xhtml/authorsnote.xhtml',\n",
       " 'OEBPS/xhtml/halftitle.xhtml',\n",
       " 'OEBPS/styles/stylesheet.css',\n",
       " 'OEBPS/images/9781639734979.jpg',\n",
       " 'OEBPS/xhtml/extration.xhtml',\n",
       " 'OEBPS/xhtml/chapter7.xhtml',\n",
       " 'OEBPS/images/pgiii.jpg',\n",
       " 'META-INF/container.xml',\n",
       " 'OEBPS/toc.ncx',\n",
       " 'OEBPS/xhtml/nav.xhtml',\n",
       " 'OEBPS/9781639734979.opf',\n",
       " 'OEBPS/xhtml/copyright.xhtml',\n",
       " 'OEBPS/xhtml/acknowledgments.xhtml',\n",
       " 'OEBPS/xhtml/cover.xhtml',\n",
       " 'OEBPS/xhtml/chapter2.xhtml',\n",
       " 'OEBPS/xhtml/title.xhtml',\n",
       " 'OEBPS/images/pg238.jpg',\n",
       " 'OEBPS/xhtml/chapter3.xhtml',\n",
       " 'OEBPS/xhtml/conclusion.xhtml',\n",
       " 'OEBPS/xhtml/chapter6.xhtml']"
      ]
     },
     "execution_count": 18,
     "metadata": {},
     "output_type": "execute_result"
    }
   ],
   "source": [
    "explore_epub_structure(test_book)"
   ]
  }
 ],
 "metadata": {
  "kernelspec": {
   "display_name": "default",
   "language": "python",
   "name": "python3"
  },
  "language_info": {
   "codemirror_mode": {
    "name": "ipython",
    "version": 3
   },
   "file_extension": ".py",
   "mimetype": "text/x-python",
   "name": "python",
   "nbconvert_exporter": "python",
   "pygments_lexer": "ipython3",
   "version": "3.11.13"
  }
 },
 "nbformat": 4,
 "nbformat_minor": 5
}
